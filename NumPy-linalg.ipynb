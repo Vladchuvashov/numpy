{
  "cells": [
    {
      "metadata": {
        "collapsed": true
      },
      "cell_type": "markdown",
      "source": "# linalg\n"
    },
    {
      "metadata": {},
      "cell_type": "markdown",
      "source": "модуль numpy.linalg, позволяющий делать многие операции из линейной алгебры"
    },
    {
      "metadata": {},
      "cell_type": "markdown",
      "source": "# Возведение в степень"
    },
    {
      "metadata": {},
      "cell_type": "markdown",
      "source": "linalg.matrix_power(M, n) - возводит матрицу в степень n."
    },
    {
      "metadata": {},
      "cell_type": "markdown",
      "source": "# Разложения"
    },
    {
      "metadata": {},
      "cell_type": "markdown",
      "source": "linalg.cholesky(a) - разложение Холецкого.\n\nlinalg.qr(a[, mode]) - QR разложение.\n\nlinalg.svd(a[, full_matrices, compute_uv]) - сингулярное разложение."
    },
    {
      "metadata": {},
      "cell_type": "markdown",
      "source": "# Некоторые характеристики матриц"
    },
    {
      "metadata": {},
      "cell_type": "markdown",
      "source": "linalg.eig(a) - собственные значения и собственные векторы.\n\nlinalg.norm(x[, ord, axis]) - норма вектора или оператора.\n\nlinalg.cond(x[, p]) - число обусловленности.\n\nlinalg.det(a) - определитель.\n\nlinalg.slogdet(a) - знак и логарифм определителя (для избежания переполнения, если сам определитель очень маленький)."
    },
    {
      "metadata": {},
      "cell_type": "markdown",
      "source": "# Системы уравнений"
    },
    {
      "metadata": {},
      "cell_type": "markdown",
      "source": "inalg.solve(a, b) - решает систему линейных уравнений Ax = b.\n\nlinalg.tensorsolve(a, b[, axes]) - решает тензорную систему линейных уравнений Ax = b.\n\nlinalg.lstsq(a, b[, rcond]) - метод наименьших квадратов.\n\nlinalg.inv(a) - обратная матрица.\n\nЗамечания:\n\nlinalg.LinAlgError - исключение, вызываемое данными функциями в случае неудачи (например, при попытке взять обратную матрицу от вырожденной).\nПодробная документация, как всегда, на английском: https://docs.scipy.org/doc/numpy/reference/routines.linalg.html\nМассивы большей размерности в большинстве функций linalg интерпретируются как набор из нескольких массивов нужной размерности. Таким образом, можно одним вызовом функции проделывать операции над несколькими объектами."
    },
    {
      "metadata": {},
      "cell_type": "markdown",
      "source": "Массивы большей размерности в большинстве функций linalg интерпретируются как набор из нескольких массивов нужной размерности. Таким образом, можно одним вызовом функции проделывать операции над несколькими объектами."
    },
    {
      "metadata": {
        "trusted": true
      },
      "cell_type": "code",
      "source": "import numpy as np\na = np.arange(18).reshape((2,3,3))\na\n",
      "execution_count": 4,
      "outputs": [
        {
          "output_type": "execute_result",
          "execution_count": 4,
          "data": {
            "text/plain": "array([[[ 0,  1,  2],\n        [ 3,  4,  5],\n        [ 6,  7,  8]],\n\n       [[ 9, 10, 11],\n        [12, 13, 14],\n        [15, 16, 17]]])"
          },
          "metadata": {}
        }
      ]
    },
    {
      "metadata": {
        "trusted": true
      },
      "cell_type": "code",
      "source": "np.linalg.det(a)",
      "execution_count": 5,
      "outputs": [
        {
          "output_type": "execute_result",
          "execution_count": 5,
          "data": {
            "text/plain": "array([0., 0.])"
          },
          "metadata": {}
        }
      ]
    },
    {
      "metadata": {
        "trusted": true
      },
      "cell_type": "code",
      "source": "",
      "execution_count": null,
      "outputs": []
    }
  ],
  "metadata": {
    "kernelspec": {
      "name": "python36",
      "display_name": "Python 3.6",
      "language": "python"
    },
    "language_info": {
      "mimetype": "text/x-python",
      "nbconvert_exporter": "python",
      "name": "python",
      "pygments_lexer": "ipython3",
      "version": "3.6.6",
      "file_extension": ".py",
      "codemirror_mode": {
        "version": 3,
        "name": "ipython"
      }
    }
  },
  "nbformat": 4,
  "nbformat_minor": 2
}