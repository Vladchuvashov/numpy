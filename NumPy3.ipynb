{
  "cells": [
    {
      "metadata": {
        "collapsed": true
      },
      "cell_type": "markdown",
      "source": "# Индексы, срезы, итерации"
    },
    {
      "metadata": {},
      "cell_type": "markdown",
      "source": "Одномерные массивы осуществляют операции индексирования, срезов и итераций очень схожим образом с обычными списками и другими последовательностями Python (разве что удалять с помощью срезов нельзя)."
    },
    {
      "metadata": {
        "trusted": true
      },
      "cell_type": "code",
      "source": "import numpy as np",
      "execution_count": 2,
      "outputs": []
    },
    {
      "metadata": {
        "trusted": true
      },
      "cell_type": "code",
      "source": "a = np.arange(10) ** 3\na\na[1]\na[3:7]\na[3:7] = 8\na\na[::-1]\n#del a[4:6]\n\n\nfor i in a:\n    print(i ** (1/3))",
      "execution_count": 4,
      "outputs": [
        {
          "output_type": "stream",
          "text": "0.0\n1.0\n2.0\n2.0\n2.0\n2.0\n2.0\n6.999999999999999\n7.999999999999999\n8.999999999999998\n",
          "name": "stdout"
        }
      ]
    },
    {
      "metadata": {},
      "cell_type": "markdown",
      "source": "У многомерных массивов на каждую ось приходится один индекс. Индексы передаются в виде последовательности чисел, разделенных запятыми (то бишь, кортежами):"
    },
    {
      "metadata": {
        "trusted": true
      },
      "cell_type": "code",
      "source": "b = np.array([[  0, 1, 2, 3],\n              [10, 11, 12, 13],\n              [20, 21, 22, 23],\n              [30, 31, 32, 33],\n              [40, 41, 42, 43]])\n\nb[2,3]  # Вторая строка, третий столбец\nb[(2,3)]\nb[2][3]  # Можно и так\nb[:,2]  # Третий столбец\nb[:2]  # Первые две строки\nb[1:3, : : ]  # Вторая и третья строки",
      "execution_count": 5,
      "outputs": [
        {
          "output_type": "execute_result",
          "execution_count": 5,
          "data": {
            "text/plain": "array([[10, 11, 12, 13],\n       [20, 21, 22, 23]])"
          },
          "metadata": {}
        }
      ]
    },
    {
      "metadata": {},
      "cell_type": "markdown",
      "source": "Когда индексов меньше, чем осей, отсутствующие индексы предполагаются дополненными с помощью срезов:"
    },
    {
      "metadata": {
        "trusted": true
      },
      "cell_type": "code",
      "source": "b[-1]  # Последняя строка. Эквивалентно b[-1,:]",
      "execution_count": 6,
      "outputs": [
        {
          "output_type": "execute_result",
          "execution_count": 6,
          "data": {
            "text/plain": "array([40, 41, 42, 43])"
          },
          "metadata": {}
        }
      ]
    },
    {
      "metadata": {},
      "cell_type": "markdown",
      "source": "b[i] можно читать как b[i, <столько символов ':', сколько нужно>]. В NumPy это также может быть записано с помощью точек, как b[i, ...].\n\nНапример, если x имеет ранг 5 (то есть у него 5 осей), тогда\n\nx[1, 2, ...] эквивалентно x[1, 2, :, :, :],\nx[... , 3] то же самое, что x[:, :, :, :, 3] и\nx[4, ... , 5, :] это x[4, :, :, 5, :]."
    },
    {
      "metadata": {
        "trusted": true
      },
      "cell_type": "code",
      "source": "c = np.array([[1, 2, 3], [4, 5, 6]])\na.shape\na[1, ...]  # то же, что a[1, : , :] или a[1]\nc[... ,2]  # то же, что a[: , : ,2]",
      "execution_count": 8,
      "outputs": [
        {
          "output_type": "execute_result",
          "execution_count": 8,
          "data": {
            "text/plain": "array([3, 6])"
          },
          "metadata": {}
        }
      ]
    },
    {
      "metadata": {},
      "cell_type": "markdown",
      "source": "Итерирование многомерных массивов начинается с первой оси:"
    },
    {
      "metadata": {
        "trusted": true
      },
      "cell_type": "code",
      "source": "for row in a:\n    print(row)",
      "execution_count": 15,
      "outputs": [
        {
          "output_type": "stream",
          "text": "0\n1\n8\n8\n8\n8\n8\n343\n512\n729\n",
          "name": "stdout"
        }
      ]
    },
    {
      "metadata": {},
      "cell_type": "markdown",
      "source": "Однако, если нужно перебрать поэлементно весь массив, как если бы он был одномерным, для этого можно использовать атрибут flat:"
    },
    {
      "metadata": {
        "trusted": true
      },
      "cell_type": "code",
      "source": "for el in a.flat:\n    print(el)",
      "execution_count": 16,
      "outputs": [
        {
          "output_type": "stream",
          "text": "0\n1\n8\n8\n8\n8\n8\n343\n512\n729\n",
          "name": "stdout"
        }
      ]
    },
    {
      "metadata": {},
      "cell_type": "markdown",
      "source": "Также можно производить математические операции между массивом и числом. В этом случае к каждому элементу прибавляется (или что вы там делаете) это число."
    },
    {
      "metadata": {
        "trusted": true
      },
      "cell_type": "code",
      "source": "a + 1\na ** 3\na < 35  # И фильтрацию можно проводить",
      "execution_count": 9,
      "outputs": [
        {
          "output_type": "execute_result",
          "execution_count": 9,
          "data": {
            "text/plain": "array([ True,  True,  True,  True,  True,  True,  True, False, False,\n       False])"
          },
          "metadata": {}
        }
      ]
    },
    {
      "metadata": {},
      "cell_type": "markdown",
      "source": "NumPy также предоставляет множество математических операций для обработки массивов:"
    },
    {
      "metadata": {
        "trusted": true
      },
      "cell_type": "code",
      "source": "np.cos(a)\nnp.arctan(a)\nnp.sinh(a)",
      "execution_count": 10,
      "outputs": [
        {
          "output_type": "stream",
          "text": "/home/nbuser/anaconda3_501/lib/python3.6/site-packages/ipykernel/__main__.py:3: RuntimeWarning: overflow encountered in sinh\n  app.launch_new_instance()\n",
          "name": "stderr"
        },
        {
          "output_type": "execute_result",
          "execution_count": 10,
          "data": {
            "text/plain": "array([0.00000000e+000, 1.17520119e+000, 1.49047883e+003, 1.49047883e+003,\n       1.49047883e+003, 1.49047883e+003, 1.49047883e+003, 4.59174009e+148,\n       1.14220679e+222,             inf])"
          },
          "metadata": {}
        }
      ]
    },
    {
      "metadata": {},
      "cell_type": "markdown",
      "source": "more: https://docs.scipy.org/doc/numpy/reference/routines.math.html"
    },
    {
      "metadata": {},
      "cell_type": "markdown",
      "source": "Многие унарные операции, такие как, например, вычисление суммы всех элементов массива, представлены также и в виде методов класса ndarray."
    },
    {
      "metadata": {
        "trusted": true
      },
      "cell_type": "code",
      "source": "a = np.array([[1, 2, 3], [4, 5, 6]])\nnp.sum(a)\na.sum()\na.min()\na.max()",
      "execution_count": 11,
      "outputs": [
        {
          "output_type": "execute_result",
          "execution_count": 11,
          "data": {
            "text/plain": "6"
          },
          "metadata": {}
        }
      ]
    },
    {
      "metadata": {},
      "cell_type": "markdown",
      "source": "По умолчанию, эти операции применяются к массиву, как если бы он был списком чисел, независимо от его формы. Однако, указав параметр axis, можно применить операцию для указанной оси массива:"
    },
    {
      "metadata": {
        "trusted": true
      },
      "cell_type": "code",
      "source": "a.min(axis=0)  # Наименьшее число в каждом столбце\na.min(axis=1)  # Наименьшее число в каждой строке",
      "execution_count": 12,
      "outputs": [
        {
          "output_type": "execute_result",
          "execution_count": 12,
          "data": {
            "text/plain": "array([1, 4])"
          },
          "metadata": {}
        }
      ]
    },
    {
      "metadata": {},
      "cell_type": "markdown",
      "source": "Одномерные массивы осуществляют операции индексирования, срезов и итераций очень схожим образом с обычными списками и другими последовательностями Python (разве что удалять с помощью срезов нельзя)."
    },
    {
      "metadata": {},
      "cell_type": "markdown",
      "source": "# Манипуляции с формой"
    },
    {
      "metadata": {},
      "cell_type": "markdown",
      "source": "Как уже говорилось, у массива есть форма (shape), определяемая числом элементов вдоль каждой оси:"
    },
    {
      "metadata": {
        "trusted": true
      },
      "cell_type": "code",
      "source": "a\na.shape",
      "execution_count": 17,
      "outputs": [
        {
          "output_type": "execute_result",
          "execution_count": 17,
          "data": {
            "text/plain": "(10,)"
          },
          "metadata": {}
        }
      ]
    },
    {
      "metadata": {},
      "cell_type": "markdown",
      "source": "Форма массива может быть изменена с помощью различных команд:"
    },
    {
      "metadata": {
        "trusted": true
      },
      "cell_type": "code",
      "source": "a.ravel()  # Делает массив плоским\na.shape = (6, 2)  # Изменение формы\na\na.transpose()  # Транспонирование\na.reshape((3, 4))  # Изменение формы",
      "execution_count": 18,
      "outputs": [
        {
          "output_type": "error",
          "ename": "ValueError",
          "evalue": "cannot reshape array of size 10 into shape (6,2)",
          "traceback": [
            "\u001b[0;31m---------------------------------------------------------------------------\u001b[0m",
            "\u001b[0;31mValueError\u001b[0m                                Traceback (most recent call last)",
            "\u001b[0;32m<ipython-input-18-caa83cae1f77>\u001b[0m in \u001b[0;36m<module>\u001b[0;34m\u001b[0m\n\u001b[1;32m      1\u001b[0m \u001b[0ma\u001b[0m\u001b[0;34m.\u001b[0m\u001b[0mravel\u001b[0m\u001b[0;34m(\u001b[0m\u001b[0;34m)\u001b[0m  \u001b[0;31m# Делает массив плоским\u001b[0m\u001b[0;34m\u001b[0m\u001b[0m\n\u001b[0;32m----> 2\u001b[0;31m \u001b[0ma\u001b[0m\u001b[0;34m.\u001b[0m\u001b[0mshape\u001b[0m \u001b[0;34m=\u001b[0m \u001b[0;34m(\u001b[0m\u001b[0;36m6\u001b[0m\u001b[0;34m,\u001b[0m \u001b[0;36m2\u001b[0m\u001b[0;34m)\u001b[0m  \u001b[0;31m# Изменение формы\u001b[0m\u001b[0;34m\u001b[0m\u001b[0m\n\u001b[0m\u001b[1;32m      3\u001b[0m \u001b[0ma\u001b[0m\u001b[0;34m\u001b[0m\u001b[0m\n\u001b[1;32m      4\u001b[0m \u001b[0ma\u001b[0m\u001b[0;34m.\u001b[0m\u001b[0mtranspose\u001b[0m\u001b[0;34m(\u001b[0m\u001b[0;34m)\u001b[0m  \u001b[0;31m# Транспонирование\u001b[0m\u001b[0;34m\u001b[0m\u001b[0m\n\u001b[1;32m      5\u001b[0m \u001b[0ma\u001b[0m\u001b[0;34m.\u001b[0m\u001b[0mreshape\u001b[0m\u001b[0;34m(\u001b[0m\u001b[0;34m(\u001b[0m\u001b[0;36m3\u001b[0m\u001b[0;34m,\u001b[0m \u001b[0;36m4\u001b[0m\u001b[0;34m)\u001b[0m\u001b[0;34m)\u001b[0m  \u001b[0;31m# Изменение формы\u001b[0m\u001b[0;34m\u001b[0m\u001b[0m\n",
            "\u001b[0;31mValueError\u001b[0m: cannot reshape array of size 10 into shape (6,2)"
          ]
        }
      ]
    },
    {
      "metadata": {},
      "cell_type": "markdown",
      "source": "Порядок элементов в массиве в результате функции ravel() соответствует обычному \"C-стилю\", то есть, чем правее индекс, тем он \"быстрее изменяется\": за элементом a[0,0] следует a[0,1]. Если одна форма массива была изменена на другую, массив переформировывается также в \"C-стиле\". Функции ravel() и reshape() также могут работать (при использовании дополнительного аргумента) в FORTRAN-стиле, в котором быстрее изменяется более левый индекс."
    },
    {
      "metadata": {
        "trusted": true
      },
      "cell_type": "code",
      "source": "a\na.reshape((3, 4), order='F')",
      "execution_count": 19,
      "outputs": [
        {
          "output_type": "error",
          "ename": "ValueError",
          "evalue": "cannot reshape array of size 10 into shape (3,4)",
          "traceback": [
            "\u001b[0;31m---------------------------------------------------------------------------\u001b[0m",
            "\u001b[0;31mValueError\u001b[0m                                Traceback (most recent call last)",
            "\u001b[0;32m<ipython-input-19-249b0c8b5cc5>\u001b[0m in \u001b[0;36m<module>\u001b[0;34m\u001b[0m\n\u001b[1;32m      1\u001b[0m \u001b[0ma\u001b[0m\u001b[0;34m\u001b[0m\u001b[0m\n\u001b[0;32m----> 2\u001b[0;31m \u001b[0ma\u001b[0m\u001b[0;34m.\u001b[0m\u001b[0mreshape\u001b[0m\u001b[0;34m(\u001b[0m\u001b[0;34m(\u001b[0m\u001b[0;36m3\u001b[0m\u001b[0;34m,\u001b[0m \u001b[0;36m4\u001b[0m\u001b[0;34m)\u001b[0m\u001b[0;34m,\u001b[0m \u001b[0morder\u001b[0m\u001b[0;34m=\u001b[0m\u001b[0;34m'F'\u001b[0m\u001b[0;34m)\u001b[0m\u001b[0;34m\u001b[0m\u001b[0m\n\u001b[0m",
            "\u001b[0;31mValueError\u001b[0m: cannot reshape array of size 10 into shape (3,4)"
          ]
        }
      ]
    },
    {
      "metadata": {},
      "cell_type": "markdown",
      "source": "Метод reshape() возвращает ее аргумент с измененной формой, в то время как метод resize() изменяет сам массив:"
    },
    {
      "metadata": {
        "trusted": true
      },
      "cell_type": "code",
      "source": "a.resize((2, 6))\na",
      "execution_count": 20,
      "outputs": [
        {
          "output_type": "execute_result",
          "execution_count": 20,
          "data": {
            "text/plain": "array([[  0,   1,   8,   8,   8,   8],\n       [  8, 343, 512, 729,   0,   0]])"
          },
          "metadata": {}
        }
      ]
    },
    {
      "metadata": {},
      "cell_type": "markdown",
      "source": "Если при операции такой перестройки один из аргументов задается как -1, то он автоматически рассчитывается в соответствии с остальными заданными:"
    },
    {
      "metadata": {
        "trusted": true
      },
      "cell_type": "code",
      "source": "a.reshape((3, -1))",
      "execution_count": 21,
      "outputs": [
        {
          "output_type": "execute_result",
          "execution_count": 21,
          "data": {
            "text/plain": "array([[  0,   1,   8,   8],\n       [  8,   8,   8, 343],\n       [512, 729,   0,   0]])"
          },
          "metadata": {}
        }
      ]
    },
    {
      "metadata": {},
      "cell_type": "markdown",
      "source": "# Объединение массивов"
    },
    {
      "metadata": {},
      "cell_type": "markdown",
      "source": "Несколько массивов могут быть объединены вместе вдоль разных осей с помощью функций hstack и vstack.\n\nhstack() объединяет массивы по первым осям, vstack() — по последним:"
    },
    {
      "metadata": {
        "trusted": true
      },
      "cell_type": "code",
      "source": "a = np.array([[1, 2], [3, 4]])\nb = np.array([[5, 6], [7, 8]])\nnp.vstack((a, b))\nnp.hstack((a, b))",
      "execution_count": 22,
      "outputs": [
        {
          "output_type": "execute_result",
          "execution_count": 22,
          "data": {
            "text/plain": "array([[1, 2, 5, 6],\n       [3, 4, 7, 8]])"
          },
          "metadata": {}
        }
      ]
    },
    {
      "metadata": {},
      "cell_type": "markdown",
      "source": "Функция column_stack() объединяет одномерные массивы в качестве столбцов двумерного массива:"
    },
    {
      "metadata": {
        "trusted": true
      },
      "cell_type": "code",
      "source": "np.column_stack((a, b))",
      "execution_count": 23,
      "outputs": [
        {
          "output_type": "execute_result",
          "execution_count": 23,
          "data": {
            "text/plain": "array([[1, 2, 5, 6],\n       [3, 4, 7, 8]])"
          },
          "metadata": {}
        }
      ]
    },
    {
      "metadata": {},
      "cell_type": "markdown",
      "source": "Аналогично для строк имеется функция row_stack()."
    },
    {
      "metadata": {
        "trusted": true
      },
      "cell_type": "code",
      "source": "np.row_stack((a, b))",
      "execution_count": 24,
      "outputs": [
        {
          "output_type": "execute_result",
          "execution_count": 24,
          "data": {
            "text/plain": "array([[1, 2],\n       [3, 4],\n       [5, 6],\n       [7, 8]])"
          },
          "metadata": {}
        }
      ]
    },
    {
      "metadata": {},
      "cell_type": "markdown",
      "source": "# Разбиение массива"
    },
    {
      "metadata": {},
      "cell_type": "markdown",
      "source": "Используя hsplit() вы можете разбить массив вдоль горизонтальной оси, указав либо число возвращаемых массивов одинаковой формы, либо номера столбцов, после которых массив разрезается \"ножницами\":"
    },
    {
      "metadata": {
        "trusted": true
      },
      "cell_type": "code",
      "source": "a = np.arange(12).reshape((2, 6))\na\nnp.hsplit(a, 3)  # Разбить на 3 части\nnp.hsplit(a, (3, 4))  # Разрезать a после третьего и четвёртого столбца",
      "execution_count": 25,
      "outputs": [
        {
          "output_type": "execute_result",
          "execution_count": 25,
          "data": {
            "text/plain": "[array([[0, 1, 2],\n        [6, 7, 8]]), array([[3],\n        [9]]), array([[ 4,  5],\n        [10, 11]])]"
          },
          "metadata": {}
        }
      ]
    },
    {
      "metadata": {},
      "cell_type": "markdown",
      "source": "Функция vsplit() разбивает массив вдоль вертикальной оси, а array_split() позволяет указать оси, вдоль которых произойдет разбиение."
    },
    {
      "metadata": {},
      "cell_type": "markdown",
      "source": "# Копии и представления"
    },
    {
      "metadata": {},
      "cell_type": "markdown",
      "source": "При работе с массивами, их данные иногда необходимо копировать в другой массив, а иногда нет. Это часто является источником путаницы. Возможно 3 случая:"
    },
    {
      "metadata": {},
      "cell_type": "markdown",
      "source": "# Вообще никаких копий"
    },
    {
      "metadata": {},
      "cell_type": "markdown",
      "source": "Простое присваивание не создает ни копии массива, ни копии его данных:"
    },
    {
      "metadata": {
        "trusted": true
      },
      "cell_type": "code",
      "source": "a = np.arange(12)\nb = a  # Нового объекта создано не было\nb is a  # a и b это два имени для одного и того же объекта ndarray\nb.shape = (3,4)  # изменит форму a\na.shape",
      "execution_count": 26,
      "outputs": [
        {
          "output_type": "execute_result",
          "execution_count": 26,
          "data": {
            "text/plain": "(3, 4)"
          },
          "metadata": {}
        }
      ]
    },
    {
      "metadata": {},
      "cell_type": "markdown",
      "source": "Python передает изменяемые объекты как ссылки, поэтому вызовы функций также не создают копий."
    },
    {
      "metadata": {},
      "cell_type": "markdown",
      "source": "Представление или поверхностная копия"
    },
    {
      "metadata": {},
      "cell_type": "markdown",
      "source": "Разные объекты массивов могут использовать одни и те же данные. Метод view() создает новый объект массива, являющийся представлением тех же данных"
    },
    {
      "metadata": {
        "trusted": true
      },
      "cell_type": "code",
      "source": "c = a.view()\nc is a\nc.base is a  # c это представление данных, принадлежащих a\nc.flags.owndata\nc.shape = (2,6)  # форма а не поменяется\na.shape\nc[0,4] = 1234  # данные а изменятся\na",
      "execution_count": 27,
      "outputs": [
        {
          "output_type": "execute_result",
          "execution_count": 27,
          "data": {
            "text/plain": "array([[   0,    1,    2,    3],\n       [1234,    5,    6,    7],\n       [   8,    9,   10,   11]])"
          },
          "metadata": {}
        }
      ]
    },
    {
      "metadata": {},
      "cell_type": "markdown",
      "source": "Срез массива это представление:"
    },
    {
      "metadata": {
        "trusted": true
      },
      "cell_type": "code",
      "source": "s = a[:,1:3]\ns[:] = 10\na",
      "execution_count": 28,
      "outputs": [
        {
          "output_type": "execute_result",
          "execution_count": 28,
          "data": {
            "text/plain": "array([[   0,   10,   10,    3],\n       [1234,   10,   10,    7],\n       [   8,   10,   10,   11]])"
          },
          "metadata": {}
        }
      ]
    },
    {
      "metadata": {},
      "cell_type": "markdown",
      "source": "# Глубокая копия"
    },
    {
      "metadata": {},
      "cell_type": "markdown",
      "source": "Метод copy() создаст настоящую копию массива и его данных:"
    },
    {
      "metadata": {
        "trusted": true
      },
      "cell_type": "code",
      "source": "d = a.copy()  # создается новый объект массива с новыми данными\nd is a\nd.base is a  # d не имеет ничего общего с а\nd[0, 0] = 9999\na",
      "execution_count": 30,
      "outputs": [
        {
          "output_type": "execute_result",
          "execution_count": 30,
          "data": {
            "text/plain": "array([[   0,   10,   10,    3],\n       [1234,   10,   10,    7],\n       [   8,   10,   10,   11]])"
          },
          "metadata": {}
        }
      ]
    },
    {
      "metadata": {
        "trusted": true
      },
      "cell_type": "code",
      "source": "",
      "execution_count": null,
      "outputs": []
    }
  ],
  "metadata": {
    "kernelspec": {
      "name": "python36",
      "display_name": "Python 3.6",
      "language": "python"
    },
    "language_info": {
      "mimetype": "text/x-python",
      "nbconvert_exporter": "python",
      "name": "python",
      "pygments_lexer": "ipython3",
      "version": "3.6.6",
      "file_extension": ".py",
      "codemirror_mode": {
        "version": 3,
        "name": "ipython"
      }
    }
  },
  "nbformat": 4,
  "nbformat_minor": 2
}